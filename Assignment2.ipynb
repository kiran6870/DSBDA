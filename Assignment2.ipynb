{
 "cells": [
  {
   "cell_type": "code",
   "execution_count": 1,
   "id": "1b73b5bf-f291-4e6f-96a3-bb772b32cc25",
   "metadata": {},
   "outputs": [
    {
     "name": "stdout",
     "output_type": "stream",
     "text": [
      "CSV file created successfully.\n"
     ]
    }
   ],
   "source": [
    "import pandas as pd\n",
    "from io import StringIO\n",
    "\n",
    "data = \"\"\"\n",
    "Student_ID,Name,Math_Score,Reading_Score,Writing_Score,Age,Gender\n",
    "S001,John,85,78,92,15,Male\n",
    "S002,Anna,90,NA,88,16,Female\n",
    "S003,George,-1,82,85,17,Male\n",
    "S004,Emma,78,94,80,16,Female\n",
    "S005,Liam,92,79,85,16,Male\n",
    "S006,Olivia,NA,87,91,NA,Female\n",
    "S007,Lucas,80,80,80,16,Male\n",
    "S008,Chloe,72,75,NA,15,Female\n",
    "S009,James,NA,95,95,14,Male\n",
    "S010,Sophia,88,80,85,16,Female\n",
    "\"\"\"\n",
    "\n",
    "# Use StringIO to simulate reading from a CSV file\n",
    "df = pd.read_csv(StringIO(data))\n",
    "\n",
    "# Save to CSV file\n",
    "df.to_csv('student_performance_with_missing_values.csv', index=False)\n",
    "print(\"CSV file created successfully.\")\n"
   ]
  },
  {
   "cell_type": "code",
   "execution_count": 3,
   "id": "9f0337f3-912f-4f5f-8804-8aa679337f20",
   "metadata": {},
   "outputs": [
    {
     "data": {
      "text/html": [
       "<div>\n",
       "<style scoped>\n",
       "    .dataframe tbody tr th:only-of-type {\n",
       "        vertical-align: middle;\n",
       "    }\n",
       "\n",
       "    .dataframe tbody tr th {\n",
       "        vertical-align: top;\n",
       "    }\n",
       "\n",
       "    .dataframe thead th {\n",
       "        text-align: right;\n",
       "    }\n",
       "</style>\n",
       "<table border=\"1\" class=\"dataframe\">\n",
       "  <thead>\n",
       "    <tr style=\"text-align: right;\">\n",
       "      <th></th>\n",
       "      <th>Student_ID</th>\n",
       "      <th>Name</th>\n",
       "      <th>Math_Score</th>\n",
       "      <th>Reading_Score</th>\n",
       "      <th>Writing_Score</th>\n",
       "      <th>Age</th>\n",
       "      <th>Gender</th>\n",
       "    </tr>\n",
       "  </thead>\n",
       "  <tbody>\n",
       "    <tr>\n",
       "      <th>0</th>\n",
       "      <td>S001</td>\n",
       "      <td>John</td>\n",
       "      <td>85.0</td>\n",
       "      <td>78.0</td>\n",
       "      <td>92.0</td>\n",
       "      <td>15.0</td>\n",
       "      <td>Male</td>\n",
       "    </tr>\n",
       "    <tr>\n",
       "      <th>1</th>\n",
       "      <td>S002</td>\n",
       "      <td>Anna</td>\n",
       "      <td>90.0</td>\n",
       "      <td>NaN</td>\n",
       "      <td>88.0</td>\n",
       "      <td>16.0</td>\n",
       "      <td>Female</td>\n",
       "    </tr>\n",
       "    <tr>\n",
       "      <th>2</th>\n",
       "      <td>S003</td>\n",
       "      <td>George</td>\n",
       "      <td>-1.0</td>\n",
       "      <td>82.0</td>\n",
       "      <td>85.0</td>\n",
       "      <td>17.0</td>\n",
       "      <td>Male</td>\n",
       "    </tr>\n",
       "    <tr>\n",
       "      <th>3</th>\n",
       "      <td>S004</td>\n",
       "      <td>Emma</td>\n",
       "      <td>78.0</td>\n",
       "      <td>94.0</td>\n",
       "      <td>80.0</td>\n",
       "      <td>16.0</td>\n",
       "      <td>Female</td>\n",
       "    </tr>\n",
       "    <tr>\n",
       "      <th>4</th>\n",
       "      <td>S005</td>\n",
       "      <td>Liam</td>\n",
       "      <td>92.0</td>\n",
       "      <td>79.0</td>\n",
       "      <td>85.0</td>\n",
       "      <td>16.0</td>\n",
       "      <td>Male</td>\n",
       "    </tr>\n",
       "    <tr>\n",
       "      <th>5</th>\n",
       "      <td>S006</td>\n",
       "      <td>Olivia</td>\n",
       "      <td>NaN</td>\n",
       "      <td>87.0</td>\n",
       "      <td>91.0</td>\n",
       "      <td>NaN</td>\n",
       "      <td>Female</td>\n",
       "    </tr>\n",
       "    <tr>\n",
       "      <th>6</th>\n",
       "      <td>S007</td>\n",
       "      <td>Lucas</td>\n",
       "      <td>80.0</td>\n",
       "      <td>80.0</td>\n",
       "      <td>80.0</td>\n",
       "      <td>16.0</td>\n",
       "      <td>Male</td>\n",
       "    </tr>\n",
       "    <tr>\n",
       "      <th>7</th>\n",
       "      <td>S008</td>\n",
       "      <td>Chloe</td>\n",
       "      <td>72.0</td>\n",
       "      <td>75.0</td>\n",
       "      <td>NaN</td>\n",
       "      <td>15.0</td>\n",
       "      <td>Female</td>\n",
       "    </tr>\n",
       "    <tr>\n",
       "      <th>8</th>\n",
       "      <td>S009</td>\n",
       "      <td>James</td>\n",
       "      <td>NaN</td>\n",
       "      <td>95.0</td>\n",
       "      <td>95.0</td>\n",
       "      <td>14.0</td>\n",
       "      <td>Male</td>\n",
       "    </tr>\n",
       "    <tr>\n",
       "      <th>9</th>\n",
       "      <td>S010</td>\n",
       "      <td>Sophia</td>\n",
       "      <td>88.0</td>\n",
       "      <td>80.0</td>\n",
       "      <td>85.0</td>\n",
       "      <td>16.0</td>\n",
       "      <td>Female</td>\n",
       "    </tr>\n",
       "  </tbody>\n",
       "</table>\n",
       "</div>"
      ],
      "text/plain": [
       "  Student_ID    Name  Math_Score  Reading_Score  Writing_Score   Age  Gender\n",
       "0       S001    John        85.0           78.0           92.0  15.0    Male\n",
       "1       S002    Anna        90.0            NaN           88.0  16.0  Female\n",
       "2       S003  George        -1.0           82.0           85.0  17.0    Male\n",
       "3       S004    Emma        78.0           94.0           80.0  16.0  Female\n",
       "4       S005    Liam        92.0           79.0           85.0  16.0    Male\n",
       "5       S006  Olivia         NaN           87.0           91.0   NaN  Female\n",
       "6       S007   Lucas        80.0           80.0           80.0  16.0    Male\n",
       "7       S008   Chloe        72.0           75.0            NaN  15.0  Female\n",
       "8       S009   James         NaN           95.0           95.0  14.0    Male\n",
       "9       S010  Sophia        88.0           80.0           85.0  16.0  Female"
      ]
     },
     "execution_count": 3,
     "metadata": {},
     "output_type": "execute_result"
    }
   ],
   "source": [
    "import numpy as num \n",
    "import pandas as pd\n",
    "df=pd.read_csv(\"student_performance_with_missing_values.csv\")\n",
    "df"
   ]
  },
  {
   "cell_type": "code",
   "execution_count": 5,
   "id": "e154332f-c74e-4dcd-957f-038ab396cfb2",
   "metadata": {},
   "outputs": [
    {
     "name": "stdout",
     "output_type": "stream",
     "text": [
      "Missing values in each column:\n",
      "Student_ID       0\n",
      "Name             0\n",
      "Math_Score       2\n",
      "Reading_Score    1\n",
      "Writing_Score    1\n",
      "Age              1\n",
      "Gender           0\n",
      "dtype: int64\n"
     ]
    }
   ],
   "source": [
    "print(\"Missing values in each column:\")\n",
    "print(df.isnull().sum())"
   ]
  },
  {
   "cell_type": "code",
   "execution_count": 15,
   "id": "d6480bc5-56a7-49d9-af94-89d198a4bf80",
   "metadata": {},
   "outputs": [],
   "source": [
    "\n",
    "df['Math_Score'] = df['Math_Score'].fillna(df['Math_Score'].median())\n",
    "df['Reading_Score'] = df['Reading_Score'].fillna(df['Reading_Score'].median())\n",
    "df['Writing_Score'] = df['Writing_Score'].fillna(df['Writing_Score'].median())\n",
    "df['Age'] = df['Age'].fillna(df['Age'].median())\n"
   ]
  },
  {
   "cell_type": "code",
   "execution_count": 17,
   "id": "17cec1e5-f5cb-43bf-8b95-5435b92edec9",
   "metadata": {},
   "outputs": [
    {
     "name": "stdout",
     "output_type": "stream",
     "text": [
      "Student_ID       0\n",
      "Name             0\n",
      "Math_Score       0\n",
      "Reading_Score    0\n",
      "Writing_Score    0\n",
      "Age              0\n",
      "Gender           0\n",
      "dtype: int64\n"
     ]
    }
   ],
   "source": [
    "print(df.isnull().sum())"
   ]
  },
  {
   "cell_type": "code",
   "execution_count": 19,
   "id": "5672d0e3-0edc-4619-afa6-203ed9337bcf",
   "metadata": {},
   "outputs": [
    {
     "name": "stdout",
     "output_type": "stream",
     "text": [
      "\n",
      "Checking for negative values in numeric columns:\n",
      "Negative values found in Math_Score\n"
     ]
    }
   ],
   "source": [
    "print(\"\\nChecking for negative values in numeric columns:\")\n",
    "for col in df.select_dtypes(include=['float64', 'int64']).columns:\n",
    "    if (df[col] < 0).any():\n",
    "        print(f\"Negative values found in {col}\")"
   ]
  },
  {
   "cell_type": "code",
   "execution_count": 21,
   "id": "22ef2f38-7b06-49c5-8303-575a1bb1a5e7",
   "metadata": {},
   "outputs": [],
   "source": [
    "df['Math_Score'] = df['Math_Score'].apply(lambda x: df['Math_Score'].median() if x < 0 else x)"
   ]
  },
  {
   "cell_type": "code",
   "execution_count": 29,
   "id": "8b01532d-01c4-4912-9e13-32bfecb035c4",
   "metadata": {},
   "outputs": [
    {
     "name": "stdout",
     "output_type": "stream",
     "text": [
      "\n",
      "Checking for negative values in numeric columns:\n",
      "No negative values in Math_Score\n",
      "No negative values in Reading_Score\n",
      "No negative values in Writing_Score\n",
      "No negative values in Age\n"
     ]
    }
   ],
   "source": [
    "print(\"\\nChecking for negative values in numeric columns:\")\n",
    "for col in df.select_dtypes(include=['float64', 'int64']).columns:\n",
    "    if (df[col] < 0).any():\n",
    "        print(f\"Negative values found in {col}\")\n",
    "    else :print(f\"No negative values in {col}\")"
   ]
  },
  {
   "cell_type": "code",
   "execution_count": 37,
   "id": "04a31201-d157-444e-b1ec-f160e9dc8477",
   "metadata": {},
   "outputs": [
    {
     "name": "stdout",
     "output_type": "stream",
     "text": [
      "Math_Score       0\n",
      "Reading_Score    0\n",
      "Writing_Score    0\n",
      "Age              1\n",
      "dtype: int64\n"
     ]
    }
   ],
   "source": [
    "numeric_columns = df.select_dtypes(include=['float64', 'int64']).columns\n",
    "\n",
    "\n",
    "Q1 = df[numeric_columns].quantile(0.25)\n",
    "Q3 = df[numeric_columns].quantile(0.75)\n",
    "IQR = Q3 - Q1\n",
    "\n",
    "\n",
    "outliers = ((df[numeric_columns] < (Q1 - 1.5 * IQR)) | (df[numeric_columns] > (Q3 + 1.5 * IQR)))\n",
    "print(outliers.sum())"
   ]
  },
  {
   "cell_type": "code",
   "execution_count": 43,
   "id": "ae1d5676-abd7-45d0-a9e5-f3a172317448",
   "metadata": {},
   "outputs": [
    {
     "name": "stdout",
     "output_type": "stream",
     "text": [
      "Outliers based on Z-score method:\n",
      "Empty DataFrame\n",
      "Columns: [Math_Score, Math_Score_Z]\n",
      "Index: []\n"
     ]
    }
   ],
   "source": [
    "import pandas as pd\n",
    "import numpy as np\n",
    "\n",
    "\n",
    "mean = df['Math_Score'].mean()\n",
    "std_dev = df['Math_Score'].std()\n",
    "\n",
    "\n",
    "df['Math_Score_Z'] = (df['Math_Score'] - mean) / std_dev\n",
    "\n",
    "\n",
    "outliers = df[df['Math_Score_Z'].abs() >3]\n",
    "\n",
    "print(\"Outliers based on Z-score method:\")\n",
    "print(outliers[['Math_Score', 'Math_Score_Z']])"
   ]
  },
  {
   "cell_type": "code",
   "execution_count": null,
   "id": "049aadb2-c17e-4c9f-a72b-63ed9a2c8e9f",
   "metadata": {},
   "outputs": [],
   "source": []
  }
 ],
 "metadata": {
  "kernelspec": {
   "display_name": "Python 3 (ipykernel)",
   "language": "python",
   "name": "python3"
  },
  "language_info": {
   "codemirror_mode": {
    "name": "ipython",
    "version": 3
   },
   "file_extension": ".py",
   "mimetype": "text/x-python",
   "name": "python",
   "nbconvert_exporter": "python",
   "pygments_lexer": "ipython3",
   "version": "3.12.4"
  }
 },
 "nbformat": 4,
 "nbformat_minor": 5
}
